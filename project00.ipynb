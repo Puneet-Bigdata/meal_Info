{
 "cells": [
  {
   "cell_type": "code",
   "execution_count": 4,
   "id": "f421ce81",
   "metadata": {},
   "outputs": [],
   "source": [
    "import pymongo\n",
    "import json\n",
    "import pprint\n",
    "import warnings\n",
    "warnings.filterwarnings('ignore')"
   ]
  },
  {
   "cell_type": "code",
   "execution_count": 5,
   "id": "5a16d307",
   "metadata": {},
   "outputs": [],
   "source": [
    "client = pymongo.MongoClient('mongodb://localhost:27017')"
   ]
  },
  {
   "cell_type": "code",
   "execution_count": 11,
   "id": "dcaaaa34",
   "metadata": {},
   "outputs": [],
   "source": [
    "db=client['meal_Info']"
   ]
  },
  {
   "cell_type": "code",
   "execution_count": 12,
   "id": "860ea6f7",
   "metadata": {},
   "outputs": [],
   "source": [
    "record = [{\"meal_id\":1885,\"category\":\"Beverages\",\"cuisine\":\"Thai\"},{\"meal_id\":1993,\"category\":\"Beverages\",\"cuisine\":\"Thai\"},{\"meal_id\":2539,\"category\":\"Beverages\",\"cuisine\":\"Thai\"},{\"meal_id\":1248,\"category\":\"Beverages\",\"cuisine\":\"Indian\"},{\"meal_id\":2631,\"category\":\"Beverages\",\"cuisine\":\"Indian\"},{\"meal_id\":1311,\"category\":\"Extras\",\"cuisine\":\"Thai\"},{\"meal_id\":1062,\"category\":\"Beverages\",\"cuisine\":\"Italian\"},{\"meal_id\":1778,\"category\":\"Beverages\",\"cuisine\":\"Italian\"},{\"meal_id\":1803,\"category\":\"Extras\",\"cuisine\":\"Thai\"},{\"meal_id\":1198,\"category\":\"Extras\",\"cuisine\":\"Thai\"},{\"meal_id\":2707,\"category\":\"Beverages\",\"cuisine\":\"Italian\"},{\"meal_id\":1847,\"category\":\"Soup\",\"cuisine\":\"Thai\"},{\"meal_id\":1438,\"category\":\"Soup\",\"cuisine\":\"Thai\"},{\"meal_id\":2494,\"category\":\"Soup\",\"cuisine\":\"Thai\"},{\"meal_id\":2760,\"category\":\"Other Snacks\",\"cuisine\":\"Thai\"},{\"meal_id\":2490,\"category\":\"Salad\",\"cuisine\":\"Italian\"},{\"meal_id\":1109,\"category\":\"Rice Bowl\",\"cuisine\":\"Indian\"},{\"meal_id\":2290,\"category\":\"Rice Bowl\",\"cuisine\":\"Indian\"},{\"meal_id\":1525,\"category\":\"Other Snacks\",\"cuisine\":\"Thai\"},{\"meal_id\":2704,\"category\":\"Other Snacks\",\"cuisine\":\"Thai\"},{\"meal_id\":1878,\"category\":\"Starters\",\"cuisine\":\"Thai\"},{\"meal_id\":2640,\"category\":\"Starters\",\"cuisine\":\"Thai\"},{\"meal_id\":2577,\"category\":\"Starters\",\"cuisine\":\"Thai\"},{\"meal_id\":1754,\"category\":\"Sandwich\",\"cuisine\":\"Italian\"},{\"meal_id\":1971,\"category\":\"Sandwich\",\"cuisine\":\"Italian\"},{\"meal_id\":2306,\"category\":\"Pasta\",\"cuisine\":\"Italian\"},{\"meal_id\":2139,\"category\":\"Beverages\",\"cuisine\":\"Indian\"},{\"meal_id\":2826,\"category\":\"Sandwich\",\"cuisine\":\"Italian\"},{\"meal_id\":2664,\"category\":\"Salad\",\"cuisine\":\"Italian\"},{\"meal_id\":2569,\"category\":\"Salad\",\"cuisine\":\"Italian\"},{\"meal_id\":1230,\"category\":\"Beverages\",\"cuisine\":\"Continental\"},{\"meal_id\":1207,\"category\":\"Beverages\",\"cuisine\":\"Continental\"},{\"meal_id\":2322,\"category\":\"Beverages\",\"cuisine\":\"Continental\"},{\"meal_id\":2492,\"category\":\"Desert\",\"cuisine\":\"Indian\"},{\"meal_id\":1216,\"category\":\"Pasta\",\"cuisine\":\"Italian\"},{\"meal_id\":1727,\"category\":\"Rice Bowl\",\"cuisine\":\"Indian\"},{\"meal_id\":1902,\"category\":\"Biryani\",\"cuisine\":\"Indian\"},{\"meal_id\":1247,\"category\":\"Biryani\",\"cuisine\":\"Indian\"},{\"meal_id\":2304,\"category\":\"Desert\",\"cuisine\":\"Indian\"},{\"meal_id\":1543,\"category\":\"Desert\",\"cuisine\":\"Indian\"},{\"meal_id\":1770,\"category\":\"Biryani\",\"cuisine\":\"Indian\"},{\"meal_id\":2126,\"category\":\"Pasta\",\"cuisine\":\"Italian\"},{\"meal_id\":1558,\"category\":\"Pizza\",\"cuisine\":\"Continental\"},{\"meal_id\":2581,\"category\":\"Pizza\",\"cuisine\":\"Continental\"},{\"meal_id\":1962,\"category\":\"Pizza\",\"cuisine\":\"Continental\"},{\"meal_id\":1571,\"category\":\"Fish\",\"cuisine\":\"Continental\"},{\"meal_id\":2956,\"category\":\"Fish\",\"cuisine\":\"Continental\"},{\"meal_id\":2104,\"category\":\"Fish\",\"cuisine\":\"Continental\"},{\"meal_id\":2444,\"category\":\"Seafood\",\"cuisine\":\"Continental\"},{\"meal_id\":2867,\"category\":\"Seafood\",\"cuisine\":\"Continental\"},{\"meal_id\":1445,\"category\":\"Seafood\",\"cuisine\":\"Continental\"}]"
   ]
  },
  {
   "cell_type": "code",
   "execution_count": null,
   "id": "1aff0817",
   "metadata": {},
   "outputs": [],
   "source": []
  },
  {
   "cell_type": "code",
   "execution_count": 13,
   "id": "46203892",
   "metadata": {},
   "outputs": [
    {
     "data": {
      "text/plain": [
       "<pymongo.results.InsertManyResult at 0x1ac27b1c740>"
      ]
     },
     "execution_count": 13,
     "metadata": {},
     "output_type": "execute_result"
    }
   ],
   "source": [
    "db.mealinfo.insert_many(record)"
   ]
  },
  {
   "cell_type": "code",
   "execution_count": 14,
   "id": "087bdc3c",
   "metadata": {},
   "outputs": [
    {
     "data": {
      "text/plain": [
       "<pymongo.results.InsertOneResult at 0x1ac28088640>"
      ]
     },
     "execution_count": 14,
     "metadata": {},
     "output_type": "execute_result"
    }
   ],
   "source": [
    "rec={\"meal_id\":1885,\"category\":\"sandwich\",\"cuisine\":\"Indian\"}\n",
    "db.mealinfo.insert_one(rec)"
   ]
  },
  {
   "cell_type": "code",
   "execution_count": 15,
   "id": "14c54fe8",
   "metadata": {},
   "outputs": [
    {
     "data": {
      "text/plain": [
       "<pymongo.results.DeleteResult at 0x1ac27a40340>"
      ]
     },
     "execution_count": 15,
     "metadata": {},
     "output_type": "execute_result"
    }
   ],
   "source": [
    "delete = {\"meal_id\":1109,\"category\":\"Rice Bowl\",\"cuisine\":\"Indian\"}\n",
    "db.mealinfo.delete_one(delete)"
   ]
  },
  {
   "cell_type": "code",
   "execution_count": 16,
   "id": "3815cb35",
   "metadata": {},
   "outputs": [
    {
     "data": {
      "text/plain": [
       "<pymongo.cursor.Cursor at 0x1ac28197c70>"
      ]
     },
     "execution_count": 16,
     "metadata": {},
     "output_type": "execute_result"
    }
   ],
   "source": [
    "db.mealinfo.find()"
   ]
  },
  {
   "cell_type": "code",
   "execution_count": 17,
   "id": "55b6e980",
   "metadata": {},
   "outputs": [
    {
     "data": {
      "text/plain": [
       "<pymongo.cursor.Cursor at 0x1ac28197400>"
      ]
     },
     "execution_count": 17,
     "metadata": {},
     "output_type": "execute_result"
    }
   ],
   "source": [
    "db.mealinfo.find({\"cuisine\":\"Indian\"})"
   ]
  },
  {
   "cell_type": "code",
   "execution_count": 18,
   "id": "109b2797",
   "metadata": {},
   "outputs": [
    {
     "data": {
      "text/plain": [
       "<pymongo.cursor.Cursor at 0x1ac28197490>"
      ]
     },
     "execution_count": 18,
     "metadata": {},
     "output_type": "execute_result"
    }
   ],
   "source": [
    "db.mealinfo.find().sort(\"_id\",2)"
   ]
  },
  {
   "cell_type": "code",
   "execution_count": 19,
   "id": "6a2843b4",
   "metadata": {},
   "outputs": [
    {
     "data": {
      "text/plain": [
       "<pymongo.cursor.Cursor at 0x1ac281bfc70>"
      ]
     },
     "execution_count": 19,
     "metadata": {},
     "output_type": "execute_result"
    }
   ],
   "source": [
    "db.mealinfo.find().limit(5)"
   ]
  },
  {
   "cell_type": "code",
   "execution_count": 20,
   "id": "c184096b",
   "metadata": {},
   "outputs": [
    {
     "data": {
      "text/plain": [
       "{'_id': ObjectId('60e6ed6dbf3401d2a1386023'),\n",
       " 'meal_id': 2290,\n",
       " 'category': 'Rice Bowl',\n",
       " 'cuisine': 'Indian'}"
      ]
     },
     "execution_count": 20,
     "metadata": {},
     "output_type": "execute_result"
    }
   ],
   "source": [
    "db.mealinfo.find_one({\"category\":\"Rice Bowl\"})"
   ]
  },
  {
   "cell_type": "code",
   "execution_count": 21,
   "id": "6e735aaf",
   "metadata": {},
   "outputs": [
    {
     "data": {
      "text/plain": [
       "<pymongo.results.DeleteResult at 0x1ac281ece40>"
      ]
     },
     "execution_count": 21,
     "metadata": {},
     "output_type": "execute_result"
    }
   ],
   "source": [
    "db.mealinfo.delete_many({})"
   ]
  },
  {
   "cell_type": "code",
   "execution_count": 22,
   "id": "28e289af",
   "metadata": {},
   "outputs": [
    {
     "data": {
      "text/plain": [
       "<pymongo.results.UpdateResult at 0x1ac281d9980>"
      ]
     },
     "execution_count": 22,
     "metadata": {},
     "output_type": "execute_result"
    }
   ],
   "source": [
    "record = {\"meal_id\":1525,\"category\":\"other Snacks\",\"cuisine\":\"Thai\"}\n",
    "db.mealinfo.update_many({\"meal_id\":72},{\"$set\":record})"
   ]
  },
  {
   "cell_type": "code",
   "execution_count": 23,
   "id": "2af6b604",
   "metadata": {},
   "outputs": [],
   "source": [
    "import json\n",
    "import pprint\n",
    "import warnings\n",
    "warnings.filterwarnings(\"ignore\")"
   ]
  },
  {
   "cell_type": "code",
   "execution_count": 24,
   "id": "9c2c6938",
   "metadata": {},
   "outputs": [
    {
     "name": "stdout",
     "output_type": "stream",
     "text": [
      "51\n"
     ]
    }
   ],
   "source": [
    "print(db.mealinfo.find().count());"
   ]
  },
  {
   "cell_type": "code",
   "execution_count": 25,
   "id": "6ad85baa",
   "metadata": {},
   "outputs": [],
   "source": [
    "db.mealinfo.drop()"
   ]
  },
  {
   "cell_type": "code",
   "execution_count": null,
   "id": "a98671b4",
   "metadata": {},
   "outputs": [],
   "source": []
  }
 ],
 "metadata": {
  "kernelspec": {
   "display_name": "Python 3",
   "language": "python",
   "name": "python3"
  },
  "language_info": {
   "codemirror_mode": {
    "name": "ipython",
    "version": 3
   },
   "file_extension": ".py",
   "mimetype": "text/x-python",
   "name": "python",
   "nbconvert_exporter": "python",
   "pygments_lexer": "ipython3",
   "version": "3.8.8"
  }
 },
 "nbformat": 4,
 "nbformat_minor": 5
}
